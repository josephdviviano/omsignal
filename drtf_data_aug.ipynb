{
 "cells": [
  {
   "cell_type": "markdown",
   "metadata": {},
   "source": [
    "This is only a draft, inspired by (source: https://arxiv.org/pdf/1804.06812.pdf)\n",
    "\n",
    "\n",
    "We can also consider duplication /oversampling, but it will depend on the context of the task.\n",
    "\n",
    "Relevant points from few readings: \n",
    "\n",
    "  - Data augmentation can be hard to be applied on ECG.\n",
    "  \n",
    "  - Gain Learning speed. \n"
   ]
  },
  {
   "cell_type": "code",
   "execution_count": null,
   "metadata": {},
   "outputs": [],
   "source": [
    "def RandCrop(ecg, filename):\n",
    "    \n",
    "    #Right Top Crop\n",
    "    crop = ecg[:96, 32:]\n",
    "    crop = cv2.resize(crop, (128, 128))\n",
    "    cv2.imwrite(filename[:-4] + 'rightTop' + '.png', crop)\n",
    "    \n",
    "    #Center Top Crop\n",
    "    crop = ecg[:96, 16:112]\n",
    "    crop = cv2.resize(crop, (128, 128))\n",
    "    cv2.imwrite(filename[:-4] + 'centerTop' + '.png', crop)\n",
    "    \n",
    "    #Left Top Crop\n",
    "    crop = ecg[:96, :96]\n",
    "    crop = cv2.resize(crop, (128, 128))\n",
    "    cv2.imwrite(filename[:-4] + 'leftTop' + '.png', crop)\n",
    "    \n",
    "    #Right Center Crop\n",
    "    crop = ecg[16:112, 32:]\n",
    "    crop = cv2.resize(crop, (128, 128))\n",
    "    cv2.imwrite(filename[:-4] + 'rightCenter' + '.png', crop)\n",
    "    \n",
    "    #Center Center Crop\n",
    "    crop = ecg[16:112, 16:112]\n",
    "    crop = cv2.resize(crop, (128, 128))\n",
    "    cv2.imwrite(filename[:-4] + 'centerCenter' + '.png', crop)\n",
    "    \n",
    "    #Left Center Crop\n",
    "    crop = ecg[16:112, :96]\n",
    "    crop = cv2.resize(crop, (128, 128))\n",
    "    cv2.imwrite(filename[:-4] + 'leftCenter' + '.png', crop)\n",
    "    \n",
    "    #Right Bottom Crop\n",
    "    crop = ecg[32:, 32:]\n",
    "    crop = cv2.resize(crop, (128, 128))\n",
    "    cv2.imwrite(filename[:-4] + 'rightBottom' + '.png', crop) \n",
    "    \n",
    "    #Center Bottom Crop\n",
    "    crop = ecg[32:, 16:112]\n",
    "    crop = cv2.resize(crop, (128, 128))\n",
    "    cv2.imwrite(filename[:-4] + 'centerBottom' + '.png', crop)\n",
    "    \n",
    "    #Left Bottom Crop\n",
    "    crop = ecg[32:, :96]\n",
    "    crop = cv2.resize(crop, (128, 128))\n",
    "    cv2.imwrite(filename[:-4] + 'leftBottom' + '.png', crop)\n",
    "    "
   ]
  }
 ],
 "metadata": {
  "kernelspec": {
   "display_name": "Python 3",
   "language": "python",
   "name": "python3"
  },
  "language_info": {
   "codemirror_mode": {
    "name": "ipython",
    "version": 3
   },
   "file_extension": ".py",
   "mimetype": "text/x-python",
   "name": "python",
   "nbconvert_exporter": "python",
   "pygments_lexer": "ipython3",
   "version": "3.6.5"
  }
 },
 "nbformat": 4,
 "nbformat_minor": 2
}
